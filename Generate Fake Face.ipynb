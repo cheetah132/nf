{
 "cells": [
  {
   "cell_type": "code",
   "execution_count": 4,
   "metadata": {
    "collapsed": true,
    "deletable": true,
    "editable": true
   },
   "outputs": [],
   "source": [
    "import cv2\n",
    "import sys\n",
    "import os\n",
    "from skimage import io\n",
    "import pandas as pd\n",
    "import numpy as np\n",
    "import matplotlib.pyplot as plt\n",
    "\n",
    "#Ignore warnings\n",
    "import warnings\n",
    "warnings.filterwarnings('ignore')\n",
    "\n",
    "plt.ion() # interactive mode"
   ]
  },
  {
   "cell_type": "code",
   "execution_count": 5,
   "metadata": {
    "collapsed": false,
    "deletable": true,
    "editable": true
   },
   "outputs": [
    {
     "data": {
      "text/plain": [
       "'3.3.0'"
      ]
     },
     "execution_count": 5,
     "metadata": {},
     "output_type": "execute_result"
    }
   ],
   "source": [
    "cv2.__version__"
   ]
  },
  {
   "cell_type": "code",
   "execution_count": 6,
   "metadata": {
    "collapsed": true,
    "deletable": true,
    "editable": true
   },
   "outputs": [],
   "source": [
    "from sklearn.neighbors import NearestNeighbors, DistanceMetric"
   ]
  },
  {
   "cell_type": "code",
   "execution_count": 7,
   "metadata": {
    "collapsed": true,
    "deletable": true,
    "editable": true
   },
   "outputs": [],
   "source": [
    "landmarks_frame = pd.read_csv('./face_landmarks.csv')"
   ]
  },
  {
   "cell_type": "code",
   "execution_count": 8,
   "metadata": {
    "collapsed": true,
    "deletable": true,
    "editable": true
   },
   "outputs": [],
   "source": [
    "def makeComputeTableVector(index):\n",
    "    L = landmarks_frame.ix[index, 1:].as_matrix().astype('float').reshape(-1, 2).ravel()\n",
    "    img_name = landmarks_frame.ix[index, 0]\n",
    "    T = io.imread(img_name).ravel()\n",
    "    tmp_vector = []\n",
    "    tmp_vector.append(index)\n",
    "    tmp_vector += L.tolist()\n",
    "    tmp_vector += T.tolist()\n",
    "    return tmp_vector"
   ]
  },
  {
   "cell_type": "code",
   "execution_count": 9,
   "metadata": {
    "collapsed": false,
    "deletable": true,
    "editable": true
   },
   "outputs": [],
   "source": [
    "knn_face_vectors = []\n",
    "for i in range(len(landmarks_frame)):\n",
    "    knn_face_vectors.append(makeComputeTableVector(i))"
   ]
  },
  {
   "cell_type": "code",
   "execution_count": 11,
   "metadata": {
    "collapsed": false,
    "deletable": true,
    "editable": true
   },
   "outputs": [],
   "source": [
    "# d(A, B) = Lambda * ||La - Lb|| + ||Ta - Tb||\n",
    "\n",
    "from numpy import linalg as LA\n",
    "\n",
    "def mydist(x, y):\n",
    "    x = np.array(x).astype('int')\n",
    "    y = np.array(y).astype('int')\n",
    "    return 10 * LA.norm(x[1:137] - y[1:137]) + LA.norm(x[137:] - y[137:])  \n",
    "\n",
    "knn = NearestNeighbors(n_neighbors=16, algorithm='ball_tree', metric=mydist)\n",
    "knn.fit(knn_face_vectors)\n",
    "distance, indicies = knn.kneighbors(knn_face_vectors)"
   ]
  },
  {
   "cell_type": "code",
   "execution_count": 28,
   "metadata": {
    "collapsed": false,
    "deletable": true,
    "editable": true,
    "scrolled": true
   },
   "outputs": [
    {
     "data": {
      "text/plain": [
       "array([  5,  79,  77,  91, 151,  98,  73])"
      ]
     },
     "execution_count": 28,
     "metadata": {},
     "output_type": "execute_result"
    }
   ],
   "source": [
    "indicies[5]"
   ]
  },
  {
   "cell_type": "code",
   "execution_count": 30,
   "metadata": {
    "collapsed": false,
    "deletable": true,
    "editable": true,
    "scrolled": false
   },
   "outputs": [],
   "source": [
    "makeFace(5, 8)"
   ]
  },
  {
   "cell_type": "code",
   "execution_count": 12,
   "metadata": {
    "collapsed": true,
    "deletable": true,
    "editable": true
   },
   "outputs": [],
   "source": [
    "#! /usr/bin/env python\n",
    "## refactoring version\n",
    "\n",
    "import sys\n",
    "import numpy as np\n",
    "import cv2\n",
    "\n",
    "# Read points from text file\n",
    "def readPoints(path) :\n",
    "    # Create an array of points.\n",
    "    points = [];\n",
    "    \n",
    "    # Read points\n",
    "    with open(path) as file :\n",
    "        for line in file :\n",
    "            x, y = line.split()\n",
    "            points.append((int(x), int(y)))\n",
    "    \n",
    "\n",
    "    return points\n",
    "\n",
    "# Apply affine transform calculated using srcTri and dstTri to src and\n",
    "# output an image of size.\n",
    "def applyAffineTransform(src, srcTri, dstTri, size) :\n",
    "    \n",
    "    # Given a pair of triangles, find the affine transform.\n",
    "    warpMat = cv2.getAffineTransform( np.float32(srcTri), np.float32(dstTri) )\n",
    "    \n",
    "    # Apply the Affine Transform just found to the src image\n",
    "    dst = cv2.warpAffine( src, warpMat, (size[0], size[1]), None, flags=cv2.INTER_LINEAR, borderMode=cv2.BORDER_REFLECT_101 )\n",
    "\n",
    "    return dst\n",
    "\n",
    "\n",
    "# Check if a point is inside a rectangle\n",
    "def rectContains(rect, point) :\n",
    "    if point[0] < rect[0] :\n",
    "        return False\n",
    "    elif point[1] < rect[1] :\n",
    "        return False\n",
    "    elif point[0] > rect[0] + rect[2] :\n",
    "        return False\n",
    "    elif point[1] > rect[1] + rect[3] :\n",
    "        return False\n",
    "    return True\n",
    "\n",
    "#calculate delanauy triangle\n",
    "def calculateDelaunayTriangles(rect, points):\n",
    "    #create subdiv\n",
    "    subdiv = cv2.Subdiv2D(rect);\n",
    "    \n",
    "    # Insert points into subdiv\n",
    "    for p in points:\n",
    "        subdiv.insert(p)\n",
    "    \n",
    "    triangleList = subdiv.getTriangleList();\n",
    "    \n",
    "    delaunayTri = []\n",
    "    \n",
    "    pt = []    \n",
    "    \n",
    "    count= 0    \n",
    "    \n",
    "    for t in triangleList:        \n",
    "        pt.append((t[0], t[1]))\n",
    "        pt.append((t[2], t[3]))\n",
    "        pt.append((t[4], t[5]))\n",
    "        \n",
    "        pt1 = (t[0], t[1])\n",
    "        pt2 = (t[2], t[3])\n",
    "        pt3 = (t[4], t[5])        \n",
    "        \n",
    "        if rectContains(rect, pt1) and rectContains(rect, pt2) and rectContains(rect, pt3):\n",
    "            count = count + 1 \n",
    "            ind = []\n",
    "            for j in range(0, 3):\n",
    "                for k in range(0, len(points)):                    \n",
    "                    if(abs(pt[j][0] - points[k][0]) < 1.0 and abs(pt[j][1] - points[k][1]) < 1.0):\n",
    "                        ind.append(k)                            \n",
    "            if len(ind) == 3:                                                \n",
    "                delaunayTri.append((ind[0], ind[1], ind[2]))\n",
    "        \n",
    "        pt = []        \n",
    "            \n",
    "    \n",
    "    return delaunayTri\n",
    "        \n",
    "\n",
    "# Warps and alpha blends triangular regions from img1 and img2 to img\n",
    "def warpTriangle(img1, img2, t1, t2) :\n",
    "\n",
    "    # Find bounding rectangle for each triangle\n",
    "    r1 = cv2.boundingRect(np.float32([t1]))\n",
    "    r2 = cv2.boundingRect(np.float32([t2]))\n",
    "\n",
    "    # Offset points by left top corner of the respective rectangles\n",
    "    t1Rect = [] \n",
    "    t2Rect = []\n",
    "    t2RectInt = []\n",
    "\n",
    "    for i in range(0, 3):\n",
    "        t1Rect.append(((t1[i][0] - r1[0]),(t1[i][1] - r1[1])))\n",
    "        t2Rect.append(((t2[i][0] - r2[0]),(t2[i][1] - r2[1])))\n",
    "        t2RectInt.append(((t2[i][0] - r2[0]),(t2[i][1] - r2[1])))\n",
    "\n",
    "\n",
    "    # Get mask by filling triangle\n",
    "    mask = np.zeros((r2[3], r2[2], 3), dtype = np.float32)\n",
    "    cv2.fillConvexPoly(mask, np.int32(t2RectInt), (1.0, 1.0, 1.0), 16, 0);\n",
    "\n",
    "    # Apply warpImage to small rectangular patches\n",
    "    img1Rect = img1[r1[1]:r1[1] + r1[3], r1[0]:r1[0] + r1[2]]\n",
    "    #img2Rect = np.zeros((r2[3], r2[2]), dtype = img1Rect.dtype)\n",
    "    \n",
    "    size = (r2[2], r2[3])\n",
    "\n",
    "    img2Rect = applyAffineTransform(img1Rect, t1Rect, t2Rect, size)\n",
    "    \n",
    "    img2Rect = img2Rect * mask\n",
    "\n",
    "    # Copy triangular region of the rectangular patch to the output image\n",
    "    img2[r2[1]:r2[1]+r2[3], r2[0]:r2[0]+r2[2]] = img2[r2[1]:r2[1]+r2[3], r2[0]:r2[0]+r2[2]] * ( (1.0, 1.0, 1.0) - mask )\n",
    "     \n",
    "    img2[r2[1]:r2[1]+r2[3], r2[0]:r2[0]+r2[2]] = img2[r2[1]:r2[1]+r2[3], r2[0]:r2[0]+r2[2]] + img2Rect \n",
    "    \n",
    "\n",
    "def makeFace(index1, index2):\n",
    "    # Make sure OpenCV is version 3.0 or above\n",
    "    (major_ver, minor_ver, subminor_ver) = (cv2.__version__).split('.')\n",
    "\n",
    "    if int(major_ver) < 3 :\n",
    "        print >>sys.stderr, 'ERROR: Script needs OpenCV 3.0 or higher'\n",
    "        sys.exit(1)\n",
    "    \n",
    "    img_name = landmarks_frame.ix[index1, 0]\n",
    "    landmarks = landmarks_frame.ix[index1, 1:].as_matrix().astype('int')\n",
    "    landmarks = landmarks.reshape(-1, 2) # (68, 2)\n",
    "    \n",
    "    img_name_2 = landmarks_frame.ix[index2, 0]\n",
    "    landmarks_2 = landmarks_frame.ix[index2, 1:].as_matrix().astype('int')\n",
    "    landmarks_2 = landmarks_2.reshape(-1, 2) # (68, 2)\n",
    "    \n",
    "    # Read images\n",
    "    img1 = io.imread(img_name);\n",
    "    img2 = io.imread(img_name_2);\n",
    "    img1Warped = np.copy(img2);    \n",
    "    \n",
    "    # Read array of corresponding points\n",
    "    points1 = [tuple(l) for l in landmarks]\n",
    "    points2 = [tuple(l) for l in landmarks_2]\n",
    "    \n",
    "    # Find convex hull\n",
    "    hull1 = []\n",
    "    hull2 = []\n",
    "\n",
    "    hullIndex = cv2.convexHull(np.array(points2), returnPoints = False)\n",
    "          \n",
    "    for i in range(0, len(hullIndex)):\n",
    "        hull1.append(points1[int(hullIndex[i])])\n",
    "        hull2.append(points2[int(hullIndex[i])])\n",
    "    \n",
    "    \n",
    "    # Find delanauy traingulation for convex hull points\n",
    "    sizeImg2 = img2.shape    \n",
    "    rect = (0, 0, sizeImg2[1], sizeImg2[0])\n",
    "    \n",
    "    dt = calculateDelaunayTriangles(rect, hull2)\n",
    "    \n",
    "    if len(dt) == 0:\n",
    "        quit()\n",
    "    \n",
    "    # Apply affine transformation to Delaunay triangles\n",
    "    for i in range(0, len(dt)):\n",
    "        t1 = []\n",
    "        t2 = []\n",
    "        \n",
    "        #get points for img1, img2 corresponding to the triangles\n",
    "        for j in range(0, 3):\n",
    "            t1.append(hull1[dt[i][j]])\n",
    "            t2.append(hull2[dt[i][j]])\n",
    "        \n",
    "        warpTriangle(img1, img1Warped, t1, t2)\n",
    "            \n",
    "    # Calculate Mask\n",
    "    hull8U = []\n",
    "    for i in range(0, len(hull2)):\n",
    "        hull8U.append((hull2[i][0], hull2[i][1]))\n",
    "    \n",
    "    mask = np.zeros(img2.shape, dtype = img2.dtype)  \n",
    "    \n",
    "    cv2.fillConvexPoly(mask, np.int32(hull8U), (255, 255, 255))\n",
    "    \n",
    "    r = cv2.boundingRect(np.float32([hull2]))    \n",
    "    \n",
    "    center = ((r[0]+int(r[2]/2), r[1]+int(r[3]/2)))    \n",
    "    \n",
    "    # Clone seamlessly.\n",
    "    output = cv2.seamlessClone(np.uint8(img1Warped), img2, mask, center, cv2.NORMAL_CLONE)\n",
    "    \n",
    "    cv2.imwrite(\"./faces_generate/Genface-\" + str(index1) + \"_\" + str(index2) + \".jpg\", cv2.cvtColor(output, cv2.COLOR_RGB2BGR))\n",
    "#     plt.imshow(output)"
   ]
  },
  {
   "cell_type": "code",
   "execution_count": 13,
   "metadata": {
    "collapsed": false,
    "deletable": true,
    "editable": true
   },
   "outputs": [
    {
     "name": "stdout",
     "output_type": "stream",
     "text": [
      "953/954 : pass    "
     ]
    }
   ],
   "source": [
    "import itertools\n",
    "\n",
    "isGeneratedPair = {}\n",
    "length = len(landmarks_frame)\n",
    "for idx in range(length):\n",
    "    mypermutation = itertools.permutations(indicies[idx], 2)\n",
    "    for i, points in enumerate(mypermutation):\n",
    "        if points in isGeneratedPair:\n",
    "            sys.stdout.write('\\r'+ '%d/%d : pass   '%(idx, length))\n",
    "        else:\n",
    "            try:\n",
    "                isGeneratedPair[points] = True\n",
    "                makeFace(points[0], points[1])\n",
    "                sys.stdout.write('\\r'+ '%d/%d : success'%(idx, length))\n",
    "            except:\n",
    "                sys.stdout.write('\\r'+ '%d/%d : error   '%(idx, length))\n",
    "        "
   ]
  },
  {
   "cell_type": "code",
   "execution_count": 26,
   "metadata": {
    "collapsed": false,
    "deletable": true,
    "editable": true
   },
   "outputs": [
    {
     "data": {
      "text/plain": [
       "<matplotlib.image.AxesImage at 0x12b028b00>"
      ]
     },
     "execution_count": 26,
     "metadata": {},
     "output_type": "execute_result"
    },
    {
     "data": {
      "image/png": "[encoded data removed]",
      "text/plain": [
       "<matplotlib.figure.Figure at 0x12e7f53c8>"
      ]
     },
     "metadata": {},
     "output_type": "display_data"
    }
   ],
   "source": [
    "n = 30\n",
    "img_name = landmarks_frame.ix[n, 0]\n",
    "landmarks = landmarks_frame.ix[n, 1:].as_matrix().astype('float')\n",
    "landmarks = landmarks.reshape(-1, 2) # (68, 2)\n",
    "plt.imshow(io.imread(img_name))"
   ]
  },
  {
   "cell_type": "code",
   "execution_count": null,
   "metadata": {
    "collapsed": true,
    "deletable": true,
    "editable": true
   },
   "outputs": [],
   "source": []
  }
 ],
 "metadata": {
  "kernelspec": {
   "display_name": "Python 3",
   "language": "python",
   "name": "python3"
  },
  "language_info": {
   "codemirror_mode": {
    "name": "ipython",
    "version": 3
   },
   "file_extension": ".py",
   "mimetype": "text/x-python",
   "name": "python",
   "nbconvert_exporter": "python",
   "pygments_lexer": "ipython3",
   "version": "3.6.1"
  }
 },
 "nbformat": 4,
 "nbformat_minor": 2
}
